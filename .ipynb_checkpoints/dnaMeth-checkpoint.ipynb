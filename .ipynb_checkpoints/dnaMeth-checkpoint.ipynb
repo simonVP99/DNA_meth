{
 "cells": [
  {
   "cell_type": "code",
   "execution_count": 62,
   "metadata": {},
   "outputs": [],
   "source": [
    "import numpy as np\n",
    "import pandas as pd\n",
    "import sklearn as sk\n",
    "import torch\n",
    "import timeit\n",
    "from tqdm import tqdm\n",
    "from sklearn.utils import shuffle"
   ]
  },
  {
   "cell_type": "code",
   "execution_count": 63,
   "metadata": {},
   "outputs": [
    {
     "name": "stdout",
     "output_type": "stream",
     "text": [
      "<bound method NDFrame.head of 7260     CGTCCTGTTGCTGGTCTCCGTCCGGTCGCCGGCCGTCTAGGTCTCC...\n",
      "8        GACGTTGGGCAACAAAAAGAAAGTGAAAAGAACCTTACAAAAAATA...\n",
      "6129     CAGGTGCCCACCACCACACCTGGCTAATTTTTGTAGAGACGGGGTT...\n",
      "2636     TCTCCTGACCTTGTGATCCACCCGCCTCGGCCTCCCAAAGTGCTGG...\n",
      "4338     GTGTGCCACCATGCCCGCCTAATTCTTAATATTTTTAGTAGAGATG...\n",
      "                               ...                        \n",
      "5218     GGAGTGCAGTGGCGCAATCCCAGCCGACTGCAACCTCTGTCTCCCA...\n",
      "775      ATAGCTCCTTCCCTCACATTCTTCAGATCTTGGCTCAAATGTCATT...\n",
      "2299     ACCCTCTATACCAGGGATTCTCAAACTTACTATCATCAAGTCTTTC...\n",
      "1791     GGGGTTTCACCATGTTGGCCAGGCTAGTCTCAAACTCCTGACATCT...\n",
      "10184    CAGCAGCGGCTGCGTGCCACCCCACAGAGCGGCCACCAGCACCAGA...\n",
      "Name: DNAsequence, Length: 10000, dtype: object>\n",
      "7260     0\n",
      "8        1\n",
      "6129     1\n",
      "2636     1\n",
      "4338     1\n",
      "7018     0\n",
      "3416     1\n",
      "14486    0\n",
      "5483     1\n",
      "21618    0\n",
      "909      1\n",
      "2028     1\n",
      "18639    0\n",
      "22978    0\n",
      "7835     0\n",
      "2776     1\n",
      "23146    0\n",
      "4204     1\n",
      "1572     1\n",
      "20023    0\n",
      "Name: label, dtype: int64\n"
     ]
    }
   ],
   "source": [
    "train_data = pd.read_csv(\"dna-methylation-prediction/train.csv\")\n",
    "train_data0 = train_data[train_data[\"label\"]==0]\n",
    "train_data1 = train_data[train_data[\"label\"]==1][:5000]\n",
    "train= train_data0.append(train_data1, ignore_index=False)\n",
    "\n",
    "train=shuffle(train)\n",
    "X = train[\"DNAsequence\"]\n",
    "print(X.head)\n",
    "y= (train[\"label\"])\n",
    "print(y.head(20))\n",
    "\n"
   ]
  },
  {
   "cell_type": "code",
   "execution_count": 64,
   "metadata": {},
   "outputs": [
    {
     "name": "stdout",
     "output_type": "stream",
     "text": [
      "tensor([0., 1., 1.,  ..., 1., 1., 0.]) torch.Size([10000])\n"
     ]
    }
   ],
   "source": [
    "y = [float(i) for i in y]\n",
    "y = torch.Tensor(y)\n",
    "print(y, y.shape)"
   ]
  },
  {
   "cell_type": "code",
   "execution_count": 65,
   "metadata": {},
   "outputs": [],
   "source": [
    "def transform_DNA(seq):\n",
    "    mapping = dict(zip(\"ATCG\", range(2, 6)))\n",
    "    seq2= [mapping[i] for i in seq]\n",
    "    seq2= [float(i) for i in seq2]\n",
    "    return np.array(seq2)"
   ]
  },
  {
   "cell_type": "code",
   "execution_count": 66,
   "metadata": {},
   "outputs": [
    {
     "name": "stdout",
     "output_type": "stream",
     "text": [
      "<class 'numpy.float64'>\n"
     ]
    }
   ],
   "source": [
    "print(type(transform_DNA(X[0])[0]))"
   ]
  },
  {
   "cell_type": "code",
   "execution_count": 67,
   "metadata": {},
   "outputs": [
    {
     "name": "stderr",
     "output_type": "stream",
     "text": [
      "100%|██████████| 9999/9999 [00:04<00:00, 2222.06it/s]\n"
     ]
    }
   ],
   "source": [
    "Xtrans = transform_DNA(X[0])\n",
    "\n",
    "for x in tqdm(X[1:]):\n",
    "    o = transform_DNA(x)\n",
    "    Xtrans= np.append(Xtrans, o)\n",
    "    "
   ]
  },
  {
   "cell_type": "code",
   "execution_count": 68,
   "metadata": {},
   "outputs": [
    {
     "name": "stdout",
     "output_type": "stream",
     "text": [
      "(2010000,)\n"
     ]
    }
   ],
   "source": [
    "print(Xtrans.shape)"
   ]
  },
  {
   "cell_type": "code",
   "execution_count": 69,
   "metadata": {},
   "outputs": [],
   "source": [
    "X = torch.Tensor([i for i in Xtrans]).view(-1,201)"
   ]
  },
  {
   "cell_type": "code",
   "execution_count": 70,
   "metadata": {},
   "outputs": [
    {
     "data": {
      "text/plain": [
       "torch.Size([10000, 201])"
      ]
     },
     "execution_count": 70,
     "metadata": {},
     "output_type": "execute_result"
    }
   ],
   "source": [
    "X.shape"
   ]
  },
  {
   "cell_type": "code",
   "execution_count": 98,
   "metadata": {},
   "outputs": [
    {
     "name": "stdout",
     "output_type": "stream",
     "text": [
      "Net(\n",
      "  (conv1): Conv1d(1, 256, kernel_size=(16,), stride=(1,))\n",
      "  (conv2): Conv1d(256, 512, kernel_size=(8,), stride=(1,))\n",
      "  (conv3): Conv1d(512, 512, kernel_size=(4,), stride=(1,))\n",
      "  (fc1): Linear(in_features=10240, out_features=512, bias=True)\n",
      "  (fc2): Linear(in_features=512, out_features=1, bias=True)\n",
      ")\n"
     ]
    }
   ],
   "source": [
    "import torch\n",
    "import torch.nn as nn\n",
    "import torch.nn.functional as F\n",
    "\n",
    "class Net(nn.Module):\n",
    "    def __init__(self):\n",
    "        super().__init__() \n",
    "        self.conv1 = nn.Conv1d(1, 256, 16) \n",
    "        self.conv2 = nn.Conv1d(256, 512, 8) \n",
    "        self.conv3 = nn.Conv1d(512, 512, 4)\n",
    "\n",
    "        x = torch.randn(201).view(-1,1,201)\n",
    "        self._to_linear = None\n",
    "        self.convs(x)\n",
    "\n",
    "        self.fc1 = nn.Linear(self._to_linear, 512) \n",
    "        self.fc2 = nn.Linear(512, 1) \n",
    "\n",
    "    def convs(self, x):\n",
    "        # max pooling over 2x2\n",
    "        x = F.max_pool1d(F.relu(self.conv1(x)), (2))\n",
    "        x = F.max_pool1d(F.relu(self.conv2(x)), (2))\n",
    "        x = F.max_pool1d(F.relu(self.conv3(x)), (2))\n",
    "\n",
    "        if self._to_linear is None:\n",
    "            self._to_linear = x[0].shape[0]*x[0].shape[1]\n",
    "        return x\n",
    "\n",
    "    def forward(self, x):\n",
    "        x = self.convs(x)\n",
    "        x = x.view(-1, 1,self._to_linear) \n",
    "        x = F.relu(self.fc1(x))\n",
    "        x = self.fc2(x) \n",
    "        return x\n",
    "\n",
    "\n",
    "net = Net()\n",
    "print(net)"
   ]
  },
  {
   "cell_type": "code",
   "execution_count": 99,
   "metadata": {},
   "outputs": [],
   "source": [
    "import torch.optim as optim\n",
    "\n",
    "optimizer = optim.SGD(net.parameters(), lr=0.01, momentum=0.9)\n",
    "loss_function = nn.MSELoss()"
   ]
  },
  {
   "cell_type": "code",
   "execution_count": null,
   "metadata": {},
   "outputs": [
    {
     "name": "stderr",
     "output_type": "stream",
     "text": [
      " 34%|███▍      | 53/157 [01:30<02:57,  1.70s/it]"
     ]
    }
   ],
   "source": [
    "BATCH_SIZE = 64\n",
    "EPOCHS = 5\n",
    "a=0\n",
    "for epoch in range(EPOCHS):\n",
    "    for i in tqdm(range(0, len(X), BATCH_SIZE)): # from 0, to the len of x, stepping BATCH_SIZE at a time. [:50] ..for now just to dev\n",
    "        #print(f\"{i}:{i+BATCH_SIZE}\")\n",
    "        batch_X = X[i:i+BATCH_SIZE].view(-1, 1, 201)\n",
    "        batch_y = y[i:i+BATCH_SIZE]\n",
    "        #print (batch_y)\n",
    "      \n",
    "\n",
    "        net.zero_grad()\n",
    "\n",
    "        outputs = net(batch_X)\n",
    "        \n",
    "        #print(outputs.shape, batch_y.shape)\n",
    "        loss = loss_function(outputs, batch_y)\n",
    "        loss.backward()\n",
    "        optimizer.step()    # Does the update\n",
    "        \n",
    "    print(f\"Epoch: {epoch}. Loss: {loss}\")"
   ]
  },
  {
   "cell_type": "code",
   "execution_count": null,
   "metadata": {},
   "outputs": [],
   "source": []
  },
  {
   "cell_type": "code",
   "execution_count": null,
   "metadata": {},
   "outputs": [],
   "source": []
  },
  {
   "cell_type": "code",
   "execution_count": null,
   "metadata": {},
   "outputs": [],
   "source": []
  }
 ],
 "metadata": {
  "kernelspec": {
   "display_name": "Python 3",
   "language": "python",
   "name": "python3"
  },
  "language_info": {
   "codemirror_mode": {
    "name": "ipython",
    "version": 3
   },
   "file_extension": ".py",
   "mimetype": "text/x-python",
   "name": "python",
   "nbconvert_exporter": "python",
   "pygments_lexer": "ipython3",
   "version": "3.8.5"
  }
 },
 "nbformat": 4,
 "nbformat_minor": 4
}
